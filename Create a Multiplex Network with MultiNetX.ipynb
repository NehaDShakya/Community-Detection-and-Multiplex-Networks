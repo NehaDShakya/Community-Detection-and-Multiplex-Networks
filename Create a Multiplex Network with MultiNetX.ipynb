{
  "nbformat": 4,
  "nbformat_minor": 0,
  "metadata": {
    "colab": {
      "name": "Guide to multiNetX.ipynb",
      "provenance": [],
      "collapsed_sections": [],
      "authorship_tag": "ABX9TyPBY65nHNkZu++VMjcwtGez"
    },
    "kernelspec": {
      "name": "python3",
      "display_name": "Python 3"
    }
  },
  "cells": [
    {
      "cell_type": "code",
      "metadata": {
        "id": "g4SZyjgo_P2Y",
        "colab_type": "code",
        "outputId": "f5e9506b-5f76-4c81-ae0c-20711268f357",
        "colab": {
          "base_uri": "https://localhost:8080/",
          "height": 353
        }
      },
      "source": [
        "!pip install git+https://github.com/nkoub/multinetx.git"
      ],
      "execution_count": 1,
      "outputs": [
        {
          "output_type": "stream",
          "text": [
            "Collecting git+https://github.com/nkoub/multinetx.git\n",
            "  Cloning https://github.com/nkoub/multinetx.git to /tmp/pip-req-build-miy7i6rt\n",
            "  Running command git clone -q https://github.com/nkoub/multinetx.git /tmp/pip-req-build-miy7i6rt\n",
            "Requirement already satisfied (use --upgrade to upgrade): multinetx==2.3 from git+https://github.com/nkoub/multinetx.git in /usr/local/lib/python3.6/dist-packages\n",
            "Requirement already satisfied: cycler>=0.10.0 in /usr/local/lib/python3.6/dist-packages (from multinetx==2.3) (0.10.0)\n",
            "Requirement already satisfied: decorator>=4.4.0 in /usr/local/lib/python3.6/dist-packages (from multinetx==2.3) (4.4.1)\n",
            "Requirement already satisfied: kiwisolver==1.1.0 in /usr/local/lib/python3.6/dist-packages (from multinetx==2.3) (1.1.0)\n",
            "Requirement already satisfied: matplotlib>=3.1.1 in /usr/local/lib/python3.6/dist-packages (from multinetx==2.3) (3.1.2)\n",
            "Requirement already satisfied: networkx==2.3 in /usr/local/lib/python3.6/dist-packages (from multinetx==2.3) (2.3)\n",
            "Requirement already satisfied: numpy>=1.17.2 in /usr/local/lib/python3.6/dist-packages (from multinetx==2.3) (1.17.5)\n",
            "Requirement already satisfied: pyparsing==2.4.2 in /usr/local/lib/python3.6/dist-packages (from multinetx==2.3) (2.4.2)\n",
            "Requirement already satisfied: python-dateutil==2.8.0 in /usr/local/lib/python3.6/dist-packages (from multinetx==2.3) (2.8.0)\n",
            "Requirement already satisfied: scipy>=1.3.1 in /usr/local/lib/python3.6/dist-packages (from multinetx==2.3) (1.4.1)\n",
            "Requirement already satisfied: six==1.12.0 in /usr/local/lib/python3.6/dist-packages (from multinetx==2.3) (1.12.0)\n",
            "Requirement already satisfied: setuptools in /usr/local/lib/python3.6/dist-packages (from kiwisolver==1.1.0->multinetx==2.3) (45.1.0)\n",
            "Building wheels for collected packages: multinetx\n",
            "  Building wheel for multinetx (setup.py) ... \u001b[?25l\u001b[?25hdone\n",
            "  Created wheel for multinetx: filename=multinetx-2.3-cp36-none-any.whl size=19133 sha256=86c43d32e61e8e25bcfd95347a714ef36d0a19020386848726615951388363b3\n",
            "  Stored in directory: /tmp/pip-ephem-wheel-cache-vl41d0on/wheels/21/0b/58/cbea6f50dcb99fe22d387f29567e5eb54c0688b198b3640780\n",
            "Successfully built multinetx\n"
          ],
          "name": "stdout"
        }
      ]
    },
    {
      "cell_type": "code",
      "metadata": {
        "id": "XZ0ANCBBAO0j",
        "colab_type": "code",
        "colab": {}
      },
      "source": [
        "# Import standard python packages for numerics and plots\n",
        "import numpy as np\n",
        "import matplotlib.pyplot as plt\n",
        "%matplotlib inline"
      ],
      "execution_count": 0,
      "outputs": []
    },
    {
      "cell_type": "code",
      "metadata": {
        "id": "MH5C6-ef7WB4",
        "colab_type": "code",
        "colab": {}
      },
      "source": [
        "# Import the package multiNetX\n",
        "import multinetx as mx"
      ],
      "execution_count": 0,
      "outputs": []
    },
    {
      "cell_type": "code",
      "metadata": {
        "id": "bQ2L6c7fPeri",
        "colab_type": "code",
        "colab": {}
      },
      "source": [
        "# Create three Erd“os- R’enyi networks with N nodes for each layer\n",
        "N = 5\n",
        "g1 = mx.generators.erdos_renyi_graph(N,0.9,seed=218)\n",
        "g2 = mx.generators.erdos_renyi_graph(N,0.9,seed=211)\n",
        "g3 = mx.generators.erdos_renyi_graph(N,0.9,seed=208)"
      ],
      "execution_count": 0,
      "outputs": []
    },
    {
      "cell_type": "code",
      "metadata": {
        "id": "rM0xV_xGa3Ri",
        "colab_type": "code",
        "colab": {}
      },
      "source": [
        "# Create an 3Nx3N lil sparse matrix. It will be used to describe the layers interconnection\n",
        "adj_block = mx.lil_matrix(np.zeros((N*3,N*3)))"
      ],
      "execution_count": 0,
      "outputs": []
    },
    {
      "cell_type": "code",
      "metadata": {
        "id": "o1_N0GIkbEfc",
        "colab_type": "code",
        "colab": {}
      },
      "source": [
        "# Define the type of interconnection among the layers (here we use identity matrices thus connecting one-to-one the nodes among layers)\n",
        "adj_block[0: N, N:2*N] = np.identity(N) # L_12\n",
        "adj_block[0: N,2*N:3*N] = np.identity(N) # L_13\n",
        "adj_block[N:2*N,2*N:3*N] = np.identity(N) # L_23\n",
        "\n",
        "# use symmetric inter-adjacency matrix\n",
        "adj_block += adj_block.T"
      ],
      "execution_count": 0,
      "outputs": []
    },
    {
      "cell_type": "code",
      "metadata": {
        "id": "4aETEbfhK2Xe",
        "colab_type": "code",
        "colab": {}
      },
      "source": [
        "# Create an instance of the MultilayerGraph class\n",
        "mg = mx.MultilayerGraph(list_of_layers=[g1,g2,g3], inter_adjacency_matrix=adj_block)"
      ],
      "execution_count": 0,
      "outputs": []
    },
    {
      "cell_type": "code",
      "metadata": {
        "id": "QiGl-BgmK5ls",
        "colab_type": "code",
        "colab": {}
      },
      "source": [
        "# Weights can be added to the edges\n",
        "mg.set_edges_weights(inter_layer_edges_weight=4)\n",
        "\n",
        "mg.set_intra_edges_weights(layer=0,weight=1)\n",
        "mg.set_intra_edges_weights(layer=1,weight=2)\n",
        "mg.set_intra_edges_weights(layer=2,weight=3)"
      ],
      "execution_count": 0,
      "outputs": []
    },
    {
      "cell_type": "code",
      "metadata": {
        "id": "M0k4JC7vLGbh",
        "colab_type": "code",
        "outputId": "d043900d-3ec3-4197-97b4-0c8553bcfe18",
        "colab": {
          "base_uri": "https://localhost:8080/",
          "height": 470
        }
      },
      "source": [
        "# Plot the adjacency matrix and the multiplex networks\n",
        "fig = plt.figure(figsize=(15,5))\n",
        "\n",
        "ax1 = fig.add_subplot(122)\n",
        "ax1.axis('off')\n",
        "ax1.set_title('regular interconnected network')\n",
        "pos = mx.get_position(mg, mx.fruchterman_reingold_layout(mg.get_layer(0)), layer_vertical_shift=1.4, layer_horizontal_shift=0.0, proj_angle=7)\n",
        "mx.draw_networkx(mg,pos=pos,ax=ax1,node_size=50,with_labels=False, edge_color=[mg[a][b]['weight'] for a,b in mg.edges()], edge_cmap=plt.cm.jet_r)\n",
        "plt.show()"
      ],
      "execution_count": 9,
      "outputs": [
        {
          "output_type": "stream",
          "text": [
            "/usr/local/lib/python3.6/dist-packages/networkx/drawing/nx_pylab.py:579: MatplotlibDeprecationWarning: \n",
            "The iterable function was deprecated in Matplotlib 3.1 and will be removed in 3.3. Use np.iterable instead.\n",
            "  if not cb.iterable(width):\n",
            "/usr/local/lib/python3.6/dist-packages/networkx/drawing/nx_pylab.py:585: MatplotlibDeprecationWarning: \n",
            "The iterable function was deprecated in Matplotlib 3.1 and will be removed in 3.3. Use np.iterable instead.\n",
            "  and cb.iterable(edge_color) \\\n",
            "/usr/local/lib/python3.6/dist-packages/networkx/drawing/nx_pylab.py:595: MatplotlibDeprecationWarning: \n",
            "The iterable function was deprecated in Matplotlib 3.1 and will be removed in 3.3. Use np.iterable instead.\n",
            "  for c in edge_color]):\n"
          ],
          "name": "stderr"
        },
        {
          "output_type": "display_data",
          "data": {
            "image/png": "[encoded data removed]",
            "text/plain": [
              "<Figure size 1080x360 with 1 Axes>"
            ]
          },
          "metadata": {
            "tags": []
          }
        }
      ]
    }
  ]
}